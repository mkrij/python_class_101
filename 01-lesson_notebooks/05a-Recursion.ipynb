{
 "cells": [
  {
   "cell_type": "markdown",
   "metadata": {},
   "source": [
    "# Recursion"
   ]
  },
  {
   "cell_type": "markdown",
   "metadata": {},
   "source": [
    "## Introduction"
   ]
  },
  {
   "attachments": {},
   "cell_type": "markdown",
   "metadata": {},
   "source": [
    "A recursive function is a function that calls itself. Each time it calls itself, a separate copy is created that has its own values for its parameters and variables. Of course, if every copy creates another copy, then the recursion will never end, and we'll run out of memory, so it's crucial that every recursive function have one or more base cases. A base case is a case where the function doesn't call itself.\n",
    "\n",
    "Let's look at a common first example of recursion:"
   ]
  },
  {
   "cell_type": "code",
   "execution_count": null,
   "metadata": {},
   "outputs": [],
   "source": [
    "def factorial(num: int) -> int:\n",
    "    \"\"\"\n",
    "    Returns the factorial of num\n",
    "    \"\"\"\n",
    "    if num == 0:\n",
    "        return 1\n",
    "    else:\n",
    "        return num * factorial(num-1)"
   ]
  },
  {
   "cell_type": "markdown",
   "metadata": {},
   "source": [
    "The condition of the if statement checks whether *num* is equal to zero. This is the base case. If it's true, then the function does not call itself. However, if the base case is not true, then it calls itself, performs a multiplication with the return value, and returns the result. We could also write it like this:"
   ]
  },
  {
   "cell_type": "code",
   "execution_count": null,
   "metadata": {},
   "outputs": [],
   "source": [
    "def factorial(num: int) -> int:    \n",
    "    \"\"\"    \n",
    "    Returns the factorial of num    \n",
    "    \"\"\"    \n",
    "    if num == 0:        \n",
    "        return 1    \n",
    "    \n",
    "    return num * factorial(num-1)"
   ]
  },
  {
   "cell_type": "markdown",
   "metadata": {},
   "source": [
    "The else can be omitted here because if the condition is true, then \"return 1\" is executed, and the function ends before it can reach the recursive call. This is the logic I'll use in the other examples in this lesson."
   ]
  },
  {
   "cell_type": "markdown",
   "metadata": {},
   "source": [
    "## The Call Stack"
   ]
  },
  {
   "cell_type": "markdown",
   "metadata": {},
   "source": [
    "When running a recursive function, multiple copies of the function will be active at once, but only the most recent one will be executing - the others are paused while waiting for a result. When a recursive call is made, the computer needs to save our place in the current copy of the function, so that we can come back to it later. Then we can start executing a new copy of the function. The computer saves our place in the current copy by storing its information on the **call stack**, which keeps track of all active function calls. Watch the video \"Flow of execution example for recursion\" to see how this works."
   ]
  },
  {
   "cell_type": "markdown",
   "metadata": {},
   "source": [
    "## More examples"
   ]
  },
  {
   "cell_type": "markdown",
   "metadata": {},
   "source": [
    "Here's a recursive function that finds the greatest common divisor of two integers: "
   ]
  },
  {
   "cell_type": "code",
   "execution_count": 5,
   "metadata": {},
   "outputs": [
    {
     "name": "stdout",
     "output_type": "stream",
     "text": [
      "2\n"
     ]
    }
   ],
   "source": [
    "def gcd(a: int, b: int) -> int:    \n",
    "    \"\"\"    \n",
    "    Returns the greatest common divisor of a and b    \n",
    "    \"\"\"    \n",
    "    if a % b == 0:        \n",
    "        return b   \n",
    "  \n",
    "    return gcd(b, a % b)\n",
    "print (gcd(2,4))"
   ]
  },
  {
   "cell_type": "markdown",
   "metadata": {},
   "source": [
    "\n",
    "\n",
    "The base case is when b evenly divides *a*, in which case *b* is the greatest common divisor. Otherwise we make a recursive call with the value of *b* passed for *a*, and the value of *a % b* passed for *b*. Nothing needs to be done with the return values on the way back out of the recursive calls.\n",
    "\n",
    "Here's a recursive function that computes the hailstone sequence starting from a given number and counts how many steps it takes to reach 1:"
   ]
  },
  {
   "cell_type": "code",
   "execution_count": null,
   "metadata": {},
   "outputs": [],
   "source": [
    "def hailstone(num: int) -> int:    \n",
    "    \"\"\"    \n",
    "    Returns the number of steps it takes for a hailstone sequence that starts \n",
    "    at num to reach 1    \n",
    "    \"\"\"    \n",
    "    if num == 1:        \n",
    "        return 0    \n",
    "    if num % 2 == 0:  # if num is even        \n",
    "        return hailstone(num/2) + 1    \n",
    "    else:       \n",
    "        return hailstone(num*3+1) + 1"
   ]
  },
  {
   "cell_type": "markdown",
   "metadata": {},
   "source": [
    "Here the base case is when the sequence arrives at 1. You can see that there are two different recursive cases - one that happens if *num* is odd, and one that happens if *num* is even. We add 1 to the return value, since the current copy of hailstone takes one more step to reach 1 than the recursive call does. For example, if we start at 3, the sequence goes: 3, 10, 5, 16, 8, 4, 2, 1. If we find the number of steps it takes to go from 10 to 1, then we can just add 1 more step to get the number of steps it takes to go from 3 to 1."
   ]
  },
  {
   "cell_type": "markdown",
   "metadata": {},
   "source": [
    "## Writing a Recursive Function"
   ]
  },
  {
   "attachments": {},
   "cell_type": "markdown",
   "metadata": {},
   "source": [
    "Recursion can feel like it's partly magic, because you're writing a function that is calling the function you're still writing. It feels like an M.C. Escher print. The general strategy for designing a recursive function is to identify how a problem can be broken up into a smaller problem of the same kind, plus a bit of work at the current level.\n",
    "\n",
    "  * In the factorial example, *num*! is equal to (*num*-1)! multiplied by *num*. The smaller problem of the same kind is (*num*-1)! and multiplying by *num* is the bit of work at the current level.\n",
    "  * In the gcd example, the gcd of *a* and *b* is the same as the gcd of *b* and *a % b*, which is a smaller problem of the same type. In this example no additional work at the current level is needed.\n",
    "  * In the hailstone sequence example, the smaller problem of the same type is counting how many steps it takes to get from the next number in the sequence to 1. The bit of work at the current level is adding 1 to that result.\n"
   ]
  },
  {
   "cell_type": "markdown",
   "metadata": {},
   "source": [
    "## Exercises"
   ]
  },
  {
   "attachments": {},
   "cell_type": "markdown",
   "metadata": {},
   "source": [
    "1. Write a **recursive** function called `countdown` that takes a positive integer parameter and returns a string that **counts down from that number to 1**. For example, if `5` is passed to the function, it should return the string `\"5 4 3 2 1\"`. You can use string concatenation in your recursive function to build up the return value."
   ]
  },
  {
   "cell_type": "code",
   "execution_count": null,
   "metadata": {},
   "outputs": [],
   "source": [
    "# Type code here\n"
   ]
  },
  {
   "attachments": {},
   "cell_type": "markdown",
   "metadata": {},
   "source": [
    "2. Write a **recursive** function called `countup` that takes a positive integer parameter and returns a string that **counts up from 1 to that number**. For example, if `5` is passed to the function, it should return the string `\"1 2 3 4 5\"`. You can use string concatenation in your recursive function to build up the return value."
   ]
  },
  {
   "cell_type": "code",
   "execution_count": null,
   "metadata": {},
   "outputs": [],
   "source": [
    "# Type code here\n"
   ]
  },
  {
   "attachments": {},
   "cell_type": "markdown",
   "metadata": {},
   "source": [
    "3. Write a **recursive** function called `sum_countup` that takes an integer parameter and returns the sum of all the integers from 1 to that number. For example if the function is passed the value `5`, then it should return `15` because 1 + 2 + 3 + 4 + 5 = 15."
   ]
  },
  {
   "cell_type": "code",
   "execution_count": null,
   "metadata": {},
   "outputs": [],
   "source": [
    "# Type code here\n"
   ]
  }
 ],
 "metadata": {
  "kernelspec": {
   "display_name": "Python 3",
   "language": "python",
   "name": "python3"
  },
  "language_info": {
   "codemirror_mode": {
    "name": "ipython",
    "version": 3
   },
   "file_extension": ".py",
   "mimetype": "text/x-python",
   "name": "python",
   "nbconvert_exporter": "python",
   "pygments_lexer": "ipython3",
   "version": "3.11.1"
  },
  "vscode": {
   "interpreter": {
    "hash": "2a806d3aeacb674212bb9595bc81b7e00560d028deaf5d893b1185a2f7bac5ac"
   }
  }
 },
 "nbformat": 4,
 "nbformat_minor": 4
}
