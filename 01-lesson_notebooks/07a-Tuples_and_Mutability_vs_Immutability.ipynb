{
 "cells": [
  {
   "cell_type": "markdown",
   "metadata": {},
   "source": [
    "# Tuples and Mutability vs. Immutability"
   ]
  },
  {
   "cell_type": "markdown",
   "metadata": {},
   "source": [
    "## Tuples"
   ]
  },
  {
   "attachments": {},
   "cell_type": "markdown",
   "metadata": {},
   "source": [
    "Tuples are almost the same thing as a list, with one big use-case difference, they can't be changed. We'll go over that in the *Mutability vs. Immutability* section There are two minor differences having to do with syntax, and one more significant difference. Let's talk about the syntax first. The first difference is that we use square brackets to create a new list, but we use parentheses to create a new tuple.\n",
    "\n",
    "The other syntax difference is with tuples that contain only one value. In order for Python to know that it's a tuple, you have to include a trailing comma."
   ]
  },
  {
   "cell_type": "code",
   "execution_count": 1,
   "metadata": {},
   "outputs": [],
   "source": [
    "some_primes = (2, 3, 5, 7, 11, 13, 17, 19, 23, 27, 31)\n",
    "some_names = (\"Groucho\", \"Harpo\", \"Chico\", \"Zeppo\", \"Karl\")\n",
    "some_stuff = (98, \"Fido\", -4.925, (\"phantom\", \"tollbooth\"))\n",
    "zero = ()   # The empty tuple\n",
    "\n",
    "one = (\"just me\")   # not a tuple (no comma)\n",
    "one = (\"just me\",)  # this is a tuple\n",
    "\n",
    "numbers = (3,2,1)"
   ]
  },
  {
   "attachments": {},
   "cell_type": "markdown",
   "metadata": {},
   "source": [
    "Although parentheses are used for creating a new tuple, we still use square brackets when indexing or slicing a tuple.\n",
    "\n",
    "Now let's look at type hinting for Tuples."
   ]
  },
  {
   "attachments": {},
   "cell_type": "markdown",
   "metadata": {},
   "source": [
    "## Type hinting with Tuples as of Python `3.11.1`\n",
    "To type hint tuples in Python, you can use the `tuple` type from the `typing` module and specify the types of the individual elements in the tuple."
   ]
  },
  {
   "cell_type": "code",
   "execution_count": 2,
   "metadata": {},
   "outputs": [],
   "source": [
    "some_primes: tuple[int, int, int, int, int, int, int, int, int, int, int] = (2, 3, 5, 7, 11, 13, 17, 19, 23, 27, 31)\n",
    "some_names: tuple[str, str, str, str, str] = (\"Groucho\", \"Harpo\", \"Chico\", \"Zeppo\", \"Karl\")\n",
    "some_stuff: tuple[int, str, float, tuple[str, str]] = (98, \"Fido\", -4.925, (\"phantom\", \"tollbooth\"))\n",
    "zero: tuple[()] = () # the empty tuple\n",
    "\n",
    "one: tuple[str] = (\"just me\",)\n",
    "\n",
    "numbers: tuple[int, int, int] = (3, 2, 1)"
   ]
  },
  {
   "attachments": {},
   "cell_type": "markdown",
   "metadata": {},
   "source": [
    "In this code, each of the tuples is declared with a type hint using the `tuple` type, indicating the types of the individual elements in the tuple. The type hint syntax uses a comma-separated list of types within square brackets to specify the types of the elements. For example, `tuple[int, int, int]` specifies a tuple with three `int` elements. The `tuple[()]` syntax is used to specify an empty tuple.\n",
    "\n",
    "\n",
    "Naturally, the syntax can be a little tedious if you have a large number items to declare in your Tuple.\n",
    "\n",
    "You can use the `tuple` type from the typing module with the `...` syntax to specify that the tuple can contain any number of elements of any type.\n",
    "\n",
    "Here's an example of using the `tuple` type to type hint a tuple without declaring individual elements:"
   ]
  },
  {
   "cell_type": "code",
   "execution_count": 21,
   "metadata": {},
   "outputs": [],
   "source": [
    "some_primes: tuple[int, ...] = (2, 3, 5, 7, 11, 13, 17, 19, 23, 27, 31)\n",
    "some_names: tuple[str, ...] = (\"Groucho\", \"Harpo\", \"Chico\", \"Zeppo\", \"Karl\")\n",
    "some_stuff: tuple[int, str, float, tuple[str, ...]] = (98, \"Fido\", -4.925, (\"phantom\", \"tollbooth\"))\n",
    "zero: tuple[()] = ()\n",
    "\n",
    "one: tuple[str] = (\"just me\",)\n",
    "\n",
    "numbers: tuple[int, ...] = (3, 2, 1)"
   ]
  },
  {
   "attachments": {},
   "cell_type": "markdown",
   "metadata": {},
   "source": [
    "In this code, the `tuple` type is used with the `...` syntax to specify that each tuple can contain any number of elements of the specified type. For example, `tuple[int, ...]` specifies a tuple that can contain any number of `int` elements.\n",
    "\n",
    "Using the `tuple` type with the `...` syntax can make your code more concise and easier to read, as well as make it more flexible if you need to change the number of elements in your tuples in the future.\n",
    "\n",
    "NOW, let's finally talk about the big difference between lists and tuples in detail."
   ]
  },
  {
   "cell_type": "markdown",
   "metadata": {},
   "source": [
    "## Mutability vs. Immutability"
   ]
  },
  {
   "cell_type": "markdown",
   "metadata": {},
   "source": [
    "The big important difference between lists and tuples is that lists are mutable, but tuples are immutable. Put more simply, you can change a list, but you can't change a tuple. So far we've seen ways to create new lists based on old lists, but we haven't looked at ways we can change an existing list, with one exception. The sort method doesn't create a new sorted version of the list - it rearranges the existing list into sorted order."
   ]
  },
  {
   "cell_type": "code",
   "execution_count": 4,
   "metadata": {},
   "outputs": [
    {
     "ename": "AttributeError",
     "evalue": "'tuple' object has no attribute 'sort'",
     "output_type": "error",
     "traceback": [
      "\u001b[0;31m---------------------------------------------------------------------------\u001b[0m",
      "\u001b[0;31mAttributeError\u001b[0m                            Traceback (most recent call last)",
      "Cell \u001b[0;32mIn[4], line 1\u001b[0m\n\u001b[0;32m----> 1\u001b[0m numbers\u001b[39m.\u001b[39;49msort()\n",
      "\u001b[0;31mAttributeError\u001b[0m: 'tuple' object has no attribute 'sort'"
     ]
    }
   ],
   "source": [
    "numbers.sort()"
   ]
  },
  {
   "cell_type": "markdown",
   "metadata": {},
   "source": [
    "We can't call sort() on  tuples because they're immutable."
   ]
  },
  {
   "cell_type": "markdown",
   "metadata": {},
   "source": [
    "### Mutating a List"
   ]
  },
  {
   "cell_type": "markdown",
   "metadata": {},
   "source": [
    "How else can we mutate (modify) an existing list? Here are some lists we can demonstrate on."
   ]
  },
  {
   "cell_type": "code",
   "execution_count": 5,
   "metadata": {},
   "outputs": [],
   "source": [
    "members: list[str] = [\"Tommy\", \"Johnny\", \"Joey\", \"Dee Dee\"]\n",
    "\n",
    "birds: list[str] = [\"starling\", \"blue jay\", \"mockingbird\", \"ostrich\", \"cuckoo\"]"
   ]
  },
  {
   "cell_type": "markdown",
   "metadata": {},
   "source": [
    "We can assign a new value to an existing element of a list like this:"
   ]
  },
  {
   "cell_type": "code",
   "execution_count": 6,
   "metadata": {},
   "outputs": [
    {
     "data": {
      "text/plain": [
       "['Marky', 'Johnny', 'Joey', 'Dee Dee']"
      ]
     },
     "execution_count": 6,
     "metadata": {},
     "output_type": "execute_result"
    }
   ],
   "source": [
    "members[0] = \"Marky\"  # using indexing to mutate a list\n",
    "members"
   ]
  },
  {
   "cell_type": "markdown",
   "metadata": {},
   "source": [
    "We can also put a slice on the left side of the assignment. In this case the value on the right must be of an iterable type."
   ]
  },
  {
   "cell_type": "code",
   "execution_count": 7,
   "metadata": {},
   "outputs": [
    {
     "data": {
      "text/plain": [
       "['starling', 'robin', 'chickadee', 'ostrich', 'cuckoo']"
      ]
     },
     "execution_count": 7,
     "metadata": {},
     "output_type": "execute_result"
    }
   ],
   "source": [
    "birds[1:3] = [\"robin\", \"chickadee\"]  # using slicing to mutate a list\n",
    "birds"
   ]
  },
  {
   "cell_type": "markdown",
   "metadata": {},
   "source": [
    "The number of elements being assigned can be different than the size of the slice being replaced."
   ]
  },
  {
   "cell_type": "code",
   "execution_count": 8,
   "metadata": {},
   "outputs": [
    {
     "data": {
      "text/plain": [
       "['starling', 'hummingbird', 'wren', 'emu', 'penguin', 'ostrich', 'cuckoo']"
      ]
     },
     "execution_count": 8,
     "metadata": {},
     "output_type": "execute_result"
    }
   ],
   "source": [
    "birds[1:3] = [\"hummingbird\", \"wren\", \"emu\", \"penguin\"]\n",
    "birds"
   ]
  },
  {
   "cell_type": "code",
   "execution_count": 9,
   "metadata": {},
   "outputs": [
    {
     "data": {
      "text/plain": [
       "['starling', 'hummingbird', 'wren', 'cassowary', 'cuckoo']"
      ]
     },
     "execution_count": 9,
     "metadata": {},
     "output_type": "execute_result"
    }
   ],
   "source": [
    "birds[3:6] = [\"cassowary\"]\n",
    "birds"
   ]
  },
  {
   "cell_type": "code",
   "execution_count": 10,
   "metadata": {},
   "outputs": [
    {
     "data": {
      "text/plain": [
       "['starling', 'kiwi', 'big bird', 'hummingbird', 'wren', 'cassowary', 'cuckoo']"
      ]
     },
     "execution_count": 10,
     "metadata": {},
     "output_type": "execute_result"
    }
   ],
   "source": [
    "birds[1:1] = [\"kiwi\", \"big bird\"]\n",
    "birds"
   ]
  },
  {
   "cell_type": "code",
   "execution_count": 11,
   "metadata": {},
   "outputs": [
    {
     "data": {
      "text/plain": [
       "['starling', 'kiwi', 'hummingbird', 'wren', 'cassowary', 'cuckoo']"
      ]
     },
     "execution_count": 11,
     "metadata": {},
     "output_type": "execute_result"
    }
   ],
   "source": [
    "birds[2:3] = []\n",
    "birds"
   ]
  },
  {
   "attachments": {},
   "cell_type": "markdown",
   "metadata": {},
   "source": [
    "Notice that the slice `birds[1:1]` is empty, since a slice goes up to the second index, but doesn't include it.\n",
    "\n",
    "The slice `birds[:]` would create a slice of the entire list - that is, it would create a copy of the list, which can also be done using `list()`:"
   ]
  },
  {
   "cell_type": "code",
   "execution_count": 12,
   "metadata": {},
   "outputs": [],
   "source": [
    "birds_copy_1: list[str] = birds[:]\n",
    "birds_copy_2: list[str] = list(birds)"
   ]
  },
  {
   "cell_type": "markdown",
   "metadata": {},
   "source": [
    "We can also append items to the end of a list using **append**, and delete items from a list using **del** (notice that append uses method notation, but del uses operator notation)."
   ]
  },
  {
   "cell_type": "code",
   "execution_count": 13,
   "metadata": {},
   "outputs": [
    {
     "data": {
      "text/plain": [
       "['usagi', 'inazuma', 'hebi', 'kitsune']"
      ]
     },
     "execution_count": 13,
     "metadata": {},
     "output_type": "execute_result"
    }
   ],
   "source": [
    "vocab_words: list[str] = []\n",
    "vocab_words.append(\"usagi\")\n",
    "vocab_words.append(\"inazuma\")\n",
    "vocab_words.append(\"hebi\")\n",
    "vocab_words.append(\"kitsune\")\n",
    "vocab_words"
   ]
  },
  {
   "cell_type": "code",
   "execution_count": 14,
   "metadata": {},
   "outputs": [
    {
     "data": {
      "text/plain": [
       "['usagi', 'inazuma', 'kitsune']"
      ]
     },
     "execution_count": 14,
     "metadata": {},
     "output_type": "execute_result"
    }
   ],
   "source": [
    "del vocab_words[2]\n",
    "vocab_words"
   ]
  },
  {
   "cell_type": "markdown",
   "metadata": {},
   "source": [
    "### What about tuples?"
   ]
  },
  {
   "cell_type": "markdown",
   "metadata": {},
   "source": [
    "None of these assignments will work with tuples because they cannot be mutated. But if tuples are essentially lists that we can't change, why use them at all? One reason is that there are times when an immutable type is required. For example, only immutable types can be used as keys in **dictionaries**, another way of storing and manipulating data that we'll talk about soon. Another reason is that if the elements shouldn't get changed, using a tuple instead of a list makes sure that won't happen by accident."
   ]
  },
  {
   "cell_type": "markdown",
   "metadata": {},
   "source": [
    "### Immutable Collections of Mutable Objects"
   ]
  },
  {
   "cell_type": "markdown",
   "metadata": {},
   "source": [
    "If you have a tuple that contains mutable objects, the tuple itself is immutable because you cannot change which objects it contains, however the mutable objects it contains can still be mutated."
   ]
  },
  {
   "cell_type": "markdown",
   "metadata": {},
   "source": [
    "### Mutability and Immutability of Function Arguments"
   ]
  },
  {
   "cell_type": "markdown",
   "metadata": {},
   "source": [
    "In the page on functions we saw that changing a parameter in a function did not change the value of the variable that was passed in the function call, and said we'd discuss the reason in a later module. The reason is because the variable we passed referred to an immutable type. Integers, like tuples, are immutable and cannot be changed. In fact, lists are the **only** mutable type we've looked at so far - all the others we've seen are immutable (objects of user-defined classes, which we looked at in module 5, are also mutable). If a variable refers to a list, and we pass that list to a function, then the function can change the actual list that was passed."
   ]
  },
  {
   "cell_type": "code",
   "execution_count": 17,
   "metadata": {},
   "outputs": [
    {
     "name": "stdout",
     "output_type": "stream",
     "text": [
      "[64]\n",
      "[64]\n"
     ]
    }
   ],
   "source": [
    "def square_val(val: list[int]) -> None:    \n",
    "    val[0] = val[0] * val[0]    \n",
    "    print(val)\n",
    "\n",
    "num_list: list[int] = [8]\n",
    "square_val(num_list)\n",
    "print(num_list)"
   ]
  },
  {
   "attachments": {},
   "cell_type": "markdown",
   "metadata": {},
   "source": [
    "Here we see that the variable `num_list` got changed by the function we passed it to. The function could have changed the list in other ways such as adding or removing elements, but I wanted to show an example very similar to the one I showed in the page on functions, only using a list instead of an integer.\n",
    "\n",
    "You might have an objection at this point. How can ints, floats, bools and strings be immutable? It seems like we've changed values of those types before. We'll take a look at this in the next section, which talks about object references and identity."
   ]
  },
  {
   "cell_type": "markdown",
   "metadata": {},
   "source": [
    "### Mutable Default Arguments"
   ]
  },
  {
   "attachments": {},
   "cell_type": "markdown",
   "metadata": {},
   "source": [
    "In Python, default arguments are evaluated only once, when the function is defined, and not each time the function is called. This can lead to unexpected behavior if the default argument is mutable, such as a list or dictionary.\n",
    "\n",
    "For example, consider the following code:"
   ]
  },
  {
   "cell_type": "code",
   "execution_count": 18,
   "metadata": {},
   "outputs": [
    {
     "name": "stdout",
     "output_type": "stream",
     "text": [
      "[1]\n",
      "[1, 1]\n"
     ]
    }
   ],
   "source": [
    "def add_to_new_list(val: int , lst: list[int]=[]) -> list[int]:\n",
    "    lst.append(val)\n",
    "    return lst\n",
    "\n",
    "print(add_to_new_list(1))  # prints [1]\n",
    "print(add_to_new_list(1))  # prints [1, 1], not [1] as expected\n"
   ]
  },
  {
   "attachments": {},
   "cell_type": "markdown",
   "metadata": {},
   "source": [
    "In this code, the `add_to_list` function has a default argument lst that is a mutable list. The first call to `add_to_list` with an argument of 1 creates the default list `lst` and appends the value `1` to it. The second call to `add_to_list` with an argument of `2` also appends the value `2` to the same list `lst`, rather than creating a new, separate list.\n",
    "\n",
    "To avoid this behavior, it is best to use an immutable type, such as `None`, as the default value for the argument. If a mutable type is desired, the default value should be set to `None`, and a new mutable object should be created inside the function if the default value is encountered."
   ]
  },
  {
   "cell_type": "code",
   "execution_count": 22,
   "metadata": {},
   "outputs": [
    {
     "name": "stdout",
     "output_type": "stream",
     "text": [
      "[1]\n",
      "[2]\n",
      "[1, 2, 3, 4, 4]\n"
     ]
    }
   ],
   "source": [
    "def add_to_new_list(val: int, lst: None | list[int] = None) -> list[int]:\n",
    "    if lst is None:\n",
    "        lst = []\n",
    "    # we might write the above expression in one line instead\n",
    "    # lst = lst or []\n",
    "    lst.append(val)\n",
    "    return lst\n",
    "\n",
    "print(add_to_new_list(1))  # prints [1]\n",
    "print(add_to_new_list(2))  # prints [2], as expected\n",
    "new_list = [1,2,3,4]\n",
    "print(add_to_new_list(4,new_list))"
   ]
  },
  {
   "attachments": {},
   "cell_type": "markdown",
   "metadata": {},
   "source": [
    "In this code, the add_to_list function has a default argument lst that is set to None. If the default value is encountered, a new list is created inside the function. This ensures that each call to `add_to_list` creates a separate, independent list, avoiding the unexpected behavior.\n",
    "\n",
    "Resources: [Types: union](https://docs.python.org/3/library/stdtypes.html#types-union)"
   ]
  },
  {
   "cell_type": "markdown",
   "metadata": {},
   "source": [
    "## Exercises"
   ]
  },
  {
   "attachments": {},
   "cell_type": "markdown",
   "metadata": {},
   "source": [
    "1. Does the following program contradict the idea that tuples are immutable? Why or why not?\n",
    "\n",
    "```python\n",
    "def tuple_madness(tup):\n",
    "    return tup[1:]\n",
    "```"
   ]
  },
  {
   "attachments": {},
   "cell_type": "markdown",
   "metadata": {},
   "source": [
    "2. Write a function named `insert_front` that takes as a parameter a list and a value to add at the front of the list. It should not return anything - it should mutate the original list. For example, if the arguments passed to the function are `[9, -55, 37]` and `\"bob\"`, then after calling the function, the list should now be `[\"bob\", 9, -55, 37]`."
   ]
  },
  {
   "cell_type": "code",
   "execution_count": 28,
   "metadata": {},
   "outputs": [],
   "source": [
    "def insert_front(a_list: object, a_string: object) -> list:\n",
    "    a_list[0:0] = [a_string]\n",
    "\n"
   ]
  },
  {
   "attachments": {},
   "cell_type": "markdown",
   "metadata": {},
   "source": [
    "3. Write a function named `delete_last` that takes as a parameter a list and removes the last element from that list. It should not return anything - it should mutate the original list. For example, if the list passed to the function is `[7, \"joe\", \"apple\", 9.81, False]`, then after calling the function, the list should be `[7, \"joe\", \"apple\", 9.81]`."
   ]
  },
  {
   "cell_type": "code",
   "execution_count": 30,
   "metadata": {},
   "outputs": [],
   "source": [
    "def delete_last(a_list: list[object]) -> None:\n",
    "    del a_list[-1]"
   ]
  },
  {
   "cell_type": "code",
   "execution_count": null,
   "metadata": {},
   "outputs": [],
   "source": []
  }
 ],
 "metadata": {
  "kernelspec": {
   "display_name": "Python 3",
   "language": "python",
   "name": "python3"
  },
  "language_info": {
   "codemirror_mode": {
    "name": "ipython",
    "version": 3
   },
   "file_extension": ".py",
   "mimetype": "text/x-python",
   "name": "python",
   "nbconvert_exporter": "python",
   "pygments_lexer": "ipython3",
   "version": "3.11.1"
  },
  "vscode": {
   "interpreter": {
    "hash": "e9e699164e4a322cc4d7e5a175ae888281c7a6a570ea3d8a2c02e29901df6b06"
   }
  }
 },
 "nbformat": 4,
 "nbformat_minor": 4
}
