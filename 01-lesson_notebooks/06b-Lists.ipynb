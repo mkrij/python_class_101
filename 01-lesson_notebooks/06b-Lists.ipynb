{
 "cells": [
  {
   "cell_type": "markdown",
   "metadata": {},
   "source": [
    "# Lists"
   ]
  },
  {
   "attachments": {},
   "cell_type": "markdown",
   "metadata": {},
   "source": [
    "## Introduction\n",
    "A list is an ordered collection of objects of any type. You can have lists of floats, strings, objects made from classes you've defined, etc. You can even have lists contain other lists. You're allowed to mix the types of objects in a list, for example you can have a list that contains both integers and strings.\n",
    "\n",
    "Most lists contain multiple values, but we can have lists of one or zero values, which can be useful. Here are a few lists for you to interact with."
   ]
  },
  {
   "cell_type": "code",
   "execution_count": 3,
   "metadata": {},
   "outputs": [],
   "source": [
    "some_primes = [2, 3, 5, 7, 11, 13, 17, 19, 23, 29, 31] # list with integers\n",
    "some_names = [\"Groucho\",\"Harpo\",\"Chico\",\"Zeppo\",\"Karl\"] # list with strings\n",
    "some_stuff = [98, \"Fido\", -34.925, [\"Phantom\", \"Tollbooth\"]] # list with a mix of integer, string, float, and nested list objects\n",
    "one = [\"just me\"] # a singleton list\n",
    "zero = [] # an empty list"
   ]
  },
  {
   "attachments": {},
   "cell_type": "markdown",
   "metadata": {},
   "source": [
    "## Type hinting with lists\n",
    "We'll describe to methods to type hint with lists the most current methods available. When this was originally written, we based the type hinting syntax for lists on Python pre 3.9 syntax and methods. If you wish, you can review the older syntax as well in the additional materials section: [03-additional_material/06-Lists](../03-additional_material/06b-Lists.ipynb)"
   ]
  },
  {
   "attachments": {},
   "cell_type": "markdown",
   "metadata": {},
   "source": [
    "### List syntax as of Python `3.11.1`\n",
    "Type hinting can be used to specify the expected data type of elements in a list. For example:\n",
    "\n",
    "```python\n",
    "\n",
    "def get_average(numbers: list[float]) -> float:\n",
    "    return sum(numbers) / len(numbers)\n",
    "```\n",
    "In the example above, the get_average function takes a single argument, numbers, which is expected to be a list of float values. The `list[float]` syntax specifies that the numbers argument is a list whose elements are of type `float`. The function's return value is indicated to be of type `float`."
   ]
  },
  {
   "cell_type": "code",
   "execution_count": null,
   "metadata": {},
   "outputs": [],
   "source": [
    "# let's see how to run our examples from the beginning again execept this time with type hinting\n",
    "\n",
    "some_primes: list[int] = [2,3,5,7,11,13,17,19,23,29,31] # list with integers\n",
    "some_names: list[str] = [\"Groucho\",\"Harpo\",\"Chico\",\"Zeppo\",\"Karl\"] # list with strings\n",
    "one = [\"just me\"] # a single item list"
   ]
  },
  {
   "attachments": {},
   "cell_type": "markdown",
   "metadata": {},
   "source": [
    "## Type hinting with **mixed** data types in collection object\n",
    "\n",
    "To type hint a list with a mix of items, you can use the `|` operator which effectively utilizes the `Union` class from the `typing` module (see [03-additional_material/06-Lists](../03-additional_material/06b-Lists.ipynb) if you want to unerstand more). The `|` type operator allows you to specify that a variable can be of one of several types. Let's take a look at how we'd type hint of the `some_stuff` variable.\n",
    "\n",
    "Reference: \n",
    "- [PEP-604](https://peps.python.org/pep-0604/)\n",
    "- [PEP-585](https://peps.python.org/pep-0585/)"
   ]
  },
  {
   "cell_type": "code",
   "execution_count": null,
   "metadata": {},
   "outputs": [],
   "source": [
    "some_stuff: list[int | str | float | list[str]] = [98, \"Fido\", -34.925, [\"Phantom\", \"Tollbooth\"]]"
   ]
  },
  {
   "attachments": {},
   "cell_type": "markdown",
   "metadata": {},
   "source": [
    "In this code, the some_stuff variable is declared as a list of items that can be either an `int`, a `str`, a `float`, or a nested `list` of `str` values, using the `|` operator. So our type hint of  `list[int | str | float | list[str]]` specifies that the `some_stuff` argument is a list whose elements can be of `int`, `str`, `float`, or `list[str]` types."
   ]
  },
  {
   "attachments": {},
   "cell_type": "markdown",
   "metadata": {},
   "source": [
    "## Type hinting with **any** data type in collection object\n",
    "\n",
    "If your list can contain any type of object, you can use type annotation `object.`\n",
    "\n",
    "If we used our `some_stuff` example from before, we could write it with the `object` type like so:\n",
    "\n",
    "```python\n",
    "some_stuff: list[object] = [98, \"Fido\", -34.925, [\"Phantom\", \"Tollbooth\"]] \n",
    "```\n",
    "It's important to note that using the `object` type can make it harder to catch type errors at runtime and can also make the code less readable, as the type of the objects in the list is not specified. In general, it's recommended to use more specific types where possible.\n",
    "\n",
    "References:\n",
    "- [`Any` typing docs](https://docs.python.org/3/library/typing.html#typing.Any)\n",
    "- [best practices for using `Any` and `object`](https://typing.readthedocs.io/en/latest/source/best_practices.html#using-any-and-object)\n"
   ]
  },
  {
   "cell_type": "code",
   "execution_count": null,
   "metadata": {},
   "outputs": [],
   "source": [
    "some_stuff: list[object] = [98, \"Fido\", -34.925, [\"Phantom\", \"Tollbooth\"]]\n"
   ]
  },
  {
   "attachments": {},
   "cell_type": "markdown",
   "metadata": {},
   "source": [
    "## `len`"
   ]
  },
  {
   "attachments": {},
   "cell_type": "markdown",
   "metadata": {},
   "source": [
    "With lists, `len()` returns the number of elements in the list:"
   ]
  },
  {
   "cell_type": "code",
   "execution_count": 1,
   "metadata": {},
   "outputs": [
    {
     "data": {
      "text/plain": [
       "5"
      ]
     },
     "execution_count": 1,
     "metadata": {},
     "output_type": "execute_result"
    }
   ],
   "source": [
    "len([\"Mary\",\"had\",\"a\",\"little\",\"lamb\"])"
   ]
  },
  {
   "cell_type": "code",
   "execution_count": 1,
   "metadata": {},
   "outputs": [
    {
     "data": {
      "text/plain": [
       "5"
      ]
     },
     "execution_count": 1,
     "metadata": {},
     "output_type": "execute_result"
    }
   ],
   "source": [
    "count: list[int] = [1, 2, 3, 4, 5]\n",
    "len(count)"
   ]
  },
  {
   "attachments": {},
   "cell_type": "markdown",
   "metadata": {},
   "source": [
    "## Indexing and slicing"
   ]
  },
  {
   "cell_type": "markdown",
   "metadata": {},
   "source": [
    "Indexing and slicing work the same with lists as they do with strings. For example, try entering these commands by typing them to the right of the little red arrow above. (Enter one line at a time.)"
   ]
  },
  {
   "cell_type": "code",
   "execution_count": null,
   "metadata": {},
   "outputs": [],
   "source": [
    "some_primes[0]"
   ]
  },
  {
   "cell_type": "code",
   "execution_count": null,
   "metadata": {},
   "outputs": [],
   "source": [
    "some_primes[0:10:2]"
   ]
  },
  {
   "cell_type": "code",
   "execution_count": 2,
   "metadata": {},
   "outputs": [
    {
     "ename": "NameError",
     "evalue": "name 'some_names' is not defined",
     "output_type": "error",
     "traceback": [
      "\u001b[0;31m---------------------------------------------------------------------------\u001b[0m",
      "\u001b[0;31mNameError\u001b[0m                                 Traceback (most recent call last)",
      "Cell \u001b[0;32mIn[2], line 1\u001b[0m\n\u001b[0;32m----> 1\u001b[0m some_names[::\u001b[39m-\u001b[39m\u001b[39m2\u001b[39m]\n",
      "\u001b[0;31mNameError\u001b[0m: name 'some_names' is not defined"
     ]
    }
   ],
   "source": [
    "some_names[::-2]"
   ]
  },
  {
   "attachments": {},
   "cell_type": "markdown",
   "metadata": {},
   "source": [
    "When you index into a nested list to get a sublist, you can then index into that list. Try entering the following to get the list within `some_stuff`, then the item `\"Tollbooth\"` within that sublist, and then its first character:"
   ]
  },
  {
   "cell_type": "code",
   "execution_count": 7,
   "metadata": {},
   "outputs": [
    {
     "data": {
      "text/plain": [
       "['Phantom', 'Tollbooth']"
      ]
     },
     "execution_count": 7,
     "metadata": {},
     "output_type": "execute_result"
    }
   ],
   "source": [
    "some_stuff[3]"
   ]
  },
  {
   "cell_type": "code",
   "execution_count": 8,
   "metadata": {},
   "outputs": [
    {
     "data": {
      "text/plain": [
       "'Tollbooth'"
      ]
     },
     "execution_count": 8,
     "metadata": {},
     "output_type": "execute_result"
    }
   ],
   "source": [
    "some_stuff[3][1]"
   ]
  },
  {
   "cell_type": "code",
   "execution_count": 9,
   "metadata": {},
   "outputs": [
    {
     "data": {
      "text/plain": [
       "'T'"
      ]
     },
     "execution_count": 9,
     "metadata": {},
     "output_type": "execute_result"
    }
   ],
   "source": [
    "some_stuff[3][1][0]"
   ]
  },
  {
   "attachments": {},
   "cell_type": "markdown",
   "metadata": {},
   "source": [
    "## `in`, `not in`"
   ]
  },
  {
   "cell_type": "markdown",
   "metadata": {},
   "source": [
    "Also like strings, we can use *in* and *not in*. With these two operators, the second operand can be of any iterable type, which includes both strings and lists, and the first operand can be of any type at all, including iterable types. Try these examples to see for yourself:"
   ]
  },
  {
   "cell_type": "code",
   "execution_count": null,
   "metadata": {},
   "outputs": [],
   "source": [
    "13 in some_primes"
   ]
  },
  {
   "cell_type": "code",
   "execution_count": null,
   "metadata": {},
   "outputs": [],
   "source": [
    "13 not in some_primes"
   ]
  },
  {
   "cell_type": "code",
   "execution_count": 6,
   "metadata": {},
   "outputs": [
    {
     "data": {
      "text/plain": [
       "True"
      ]
     },
     "execution_count": 6,
     "metadata": {},
     "output_type": "execute_result"
    }
   ],
   "source": [
    "\"Fido\" in some_stuff"
   ]
  },
  {
   "cell_type": "code",
   "execution_count": 5,
   "metadata": {},
   "outputs": [
    {
     "data": {
      "text/plain": [
       "False"
      ]
     },
     "execution_count": 5,
     "metadata": {},
     "output_type": "execute_result"
    }
   ],
   "source": [
    "\"Phantom\" in some_stuff"
   ]
  },
  {
   "cell_type": "code",
   "execution_count": 4,
   "metadata": {},
   "outputs": [
    {
     "data": {
      "text/plain": [
       "True"
      ]
     },
     "execution_count": 4,
     "metadata": {},
     "output_type": "execute_result"
    }
   ],
   "source": [
    "\"Phantom\" in some_stuff[3]"
   ]
  },
  {
   "attachments": {},
   "cell_type": "markdown",
   "metadata": {},
   "source": [
    "What happened with those last two examples? The string `\"Phantom\"` is not in `some_stuff` - it's in a list that's in `some_stuff`. That list is at index 3, so we were able to find it there.\n",
    "\n",
    "Let's look at some more things we can do, with new list examples."
   ]
  },
  {
   "cell_type": "code",
   "execution_count": 10,
   "metadata": {},
   "outputs": [],
   "source": [
    "odds: list[int] = [7, 5, 9, 1, 13, 11, 3] # odd numbers\n",
    "evens: list[int] = [8, 4, 10, 6, 2] # even numbers\n",
    "palindromes: list[str] = [\"hannah\", \"tacocat\", \"bob\", \"mom\", \"dad\"]"
   ]
  },
  {
   "attachments": {},
   "cell_type": "markdown",
   "metadata": {},
   "source": [
    "## `min` and `max`, `sort`"
   ]
  },
  {
   "cell_type": "markdown",
   "metadata": {},
   "source": [
    "There are min and max functions we can use. Try these:"
   ]
  },
  {
   "cell_type": "code",
   "execution_count": 11,
   "metadata": {},
   "outputs": [
    {
     "data": {
      "text/plain": [
       "1"
      ]
     },
     "execution_count": 11,
     "metadata": {},
     "output_type": "execute_result"
    }
   ],
   "source": [
    "min(odds)"
   ]
  },
  {
   "cell_type": "code",
   "execution_count": 12,
   "metadata": {},
   "outputs": [
    {
     "data": {
      "text/plain": [
       "'tacocat'"
      ]
     },
     "execution_count": 12,
     "metadata": {},
     "output_type": "execute_result"
    }
   ],
   "source": [
    "max(palindromes)"
   ]
  },
  {
   "attachments": {},
   "cell_type": "markdown",
   "metadata": {},
   "source": [
    "The min and max functions wouldn't make sense for things like `some_stuff` in the first set of list examples, since Python doesn't know how to compare the different types in that list. There's also a sort function we can use."
   ]
  },
  {
   "cell_type": "code",
   "execution_count": 14,
   "metadata": {},
   "outputs": [
    {
     "name": "stdout",
     "output_type": "stream",
     "text": [
      "[2, 4, 6, 8, 10]\n"
     ]
    }
   ],
   "source": [
    "evens.sort()\n",
    "print(evens)"
   ]
  },
  {
   "cell_type": "code",
   "execution_count": 15,
   "metadata": {},
   "outputs": [],
   "source": [
    "palindromes.sort()"
   ]
  },
  {
   "cell_type": "markdown",
   "metadata": {},
   "source": [
    "You'll notice that nothing prints out when you try those. But now look at the lists again:"
   ]
  },
  {
   "cell_type": "code",
   "execution_count": 16,
   "metadata": {},
   "outputs": [
    {
     "data": {
      "text/plain": [
       "[2, 4, 6, 8, 10]"
      ]
     },
     "execution_count": 16,
     "metadata": {},
     "output_type": "execute_result"
    }
   ],
   "source": [
    "evens"
   ]
  },
  {
   "cell_type": "code",
   "execution_count": 17,
   "metadata": {},
   "outputs": [
    {
     "data": {
      "text/plain": [
       "['bob', 'dad', 'hannah', 'mom', 'tacocat']"
      ]
     },
     "execution_count": 17,
     "metadata": {},
     "output_type": "execute_result"
    }
   ],
   "source": [
    "palindromes"
   ]
  },
  {
   "attachments": {},
   "cell_type": "markdown",
   "metadata": {},
   "source": [
    "The sort method works \"in place\" and directly edits the list. The sort function also wouldn't make sense for `some_stuff` - again because Python doesn't know how to compare the different types in that list. (Try it and see!)"
   ]
  },
  {
   "cell_type": "code",
   "execution_count": 19,
   "metadata": {},
   "outputs": [
    {
     "ename": "TypeError",
     "evalue": "'<' not supported between instances of 'str' and 'int'",
     "output_type": "error",
     "traceback": [
      "\u001b[0;31m---------------------------------------------------------------------------\u001b[0m",
      "\u001b[0;31mTypeError\u001b[0m                                 Traceback (most recent call last)",
      "Cell \u001b[0;32mIn[19], line 1\u001b[0m\n\u001b[0;32m----> 1\u001b[0m some_stuff\u001b[39m.\u001b[39;49msort()\n",
      "\u001b[0;31mTypeError\u001b[0m: '<' not supported between instances of 'str' and 'int'"
     ]
    }
   ],
   "source": [
    "some_stuff.sort()"
   ]
  },
  {
   "cell_type": "markdown",
   "metadata": {},
   "source": [
    "## Concatenation"
   ]
  },
  {
   "cell_type": "markdown",
   "metadata": {},
   "source": [
    "We can concatenate lists with the + operator."
   ]
  },
  {
   "cell_type": "code",
   "execution_count": null,
   "metadata": {},
   "outputs": [],
   "source": [
    "evens + odds"
   ]
  },
  {
   "cell_type": "markdown",
   "metadata": {},
   "source": [
    "Here's one more list example for us to practice on."
   ]
  },
  {
   "cell_type": "code",
   "execution_count": 21,
   "metadata": {},
   "outputs": [],
   "source": [
    "fun_floats: list[float] = [3.141, 2.718, 6.283, 1.618, 1.414, 2.502, 0.577, 1.303, 2.685, 1.282]"
   ]
  },
  {
   "cell_type": "markdown",
   "metadata": {},
   "source": [
    "## Iterating through a List"
   ]
  },
  {
   "cell_type": "markdown",
   "metadata": {},
   "source": [
    "Lists are iterable, so we can use a for loop to access each element. For example, try this loop:"
   ]
  },
  {
   "cell_type": "code",
   "execution_count": 22,
   "metadata": {},
   "outputs": [
    {
     "name": "stdout",
     "output_type": "stream",
     "text": [
      "3.141\n",
      "2.718\n",
      "6.283\n",
      "1.618\n",
      "1.414\n",
      "2.502\n",
      "0.577\n",
      "1.303\n",
      "2.685\n",
      "1.282\n"
     ]
    }
   ],
   "source": [
    "number: float\n",
    "for number in fun_floats:\n",
    "    print(number)"
   ]
  },
  {
   "cell_type": "markdown",
   "metadata": {},
   "source": [
    "The following loop prints out the total of the values in the list:"
   ]
  },
  {
   "cell_type": "code",
   "execution_count": 23,
   "metadata": {},
   "outputs": [
    {
     "name": "stdout",
     "output_type": "stream",
     "text": [
      "3.141\n",
      "5.859\n",
      "12.142\n",
      "13.76\n",
      "15.174\n",
      "17.676\n",
      "18.253\n",
      "19.556\n",
      "22.241\n",
      "23.523\n"
     ]
    }
   ],
   "source": [
    "total: float = 0\n",
    "number: float\n",
    "for number in fun_floats:\n",
    "    total += number\n",
    "    print(total)"
   ]
  },
  {
   "attachments": {},
   "cell_type": "markdown",
   "metadata": {},
   "source": [
    "## Lists of objects"
   ]
  },
  {
   "attachments": {},
   "cell_type": "markdown",
   "metadata": {},
   "source": [
    "Let's reintroduce the `BankAccount` class we defined in Module 5:"
   ]
  },
  {
   "cell_type": "code",
   "execution_count": 25,
   "metadata": {},
   "outputs": [],
   "source": [
    "class BankAccount:    \n",
    "    \"\"\"    \n",
    "    Represents a bank account that the user can deposit money to and    \n",
    "    withdraw money from.    \n",
    "    \"\"\"\n",
    "    \n",
    "    def __init__(self, account_ID: str, balance: float):        \n",
    "        \"\"\"\n",
    "        Creates a bank account object with an account ID and balance.\n",
    "        \"\"\"\n",
    "        self._account_ID: str = account_ID        \n",
    "        self._balance: float = balance    \n",
    "    \n",
    "    def get_account_ID(self) -> str:        \n",
    "        \"\"\"\n",
    "        Returns the account ID.\n",
    "        \"\"\"\n",
    "        return self._account_ID    \n",
    "    \n",
    "    def set_account_ID(self, new_ID) -> None:        \n",
    "        \"\"\"\n",
    "        Sets the account ID to a new value.\n",
    "        \"\"\"\n",
    "        self._account_ID = new_ID    \n",
    "  \n",
    "    def get_balance(self) -> float:        \n",
    "        \"\"\"\n",
    "        Returns the current balance.\n",
    "        \"\"\"        \n",
    "        return self._balance\n",
    "  \n",
    "    def deposit(self, amount: float) -> None:        \n",
    "        \"\"\"\n",
    "        Deposits the specified amount into the account.\n",
    "        \"\"\"        \n",
    "        self._balance += amount\n",
    "  \n",
    "    def withdraw(self, amount: float) -> None:        \n",
    "        \"\"\"\n",
    "        Withdraws the specified amount from the account.\n",
    "        \"\"\"        \n",
    "        self._balance -= amount"
   ]
  },
  {
   "cell_type": "markdown",
   "metadata": {},
   "source": [
    "We can make a list of BankAccount objects (which we defined in Module 5) like this:"
   ]
  },
  {
   "cell_type": "code",
   "execution_count": 26,
   "metadata": {},
   "outputs": [],
   "source": [
    "account_1: BankAccount = BankAccount(\"235349\", 730.29)\n",
    "account_2: BankAccount = BankAccount(\"783848\", 240.89)\n",
    "account_3: BankAccount = BankAccount(\"732005\", 1390.20)\n",
    "account_list: list[BankAccount] = [account_1,account_2,account_3]"
   ]
  },
  {
   "cell_type": "markdown",
   "metadata": {},
   "source": [
    "What if we want to access the balance of the first account in the list?  We can do that like this:"
   ]
  },
  {
   "cell_type": "code",
   "execution_count": 27,
   "metadata": {},
   "outputs": [
    {
     "data": {
      "text/plain": [
       "730.29"
      ]
     },
     "execution_count": 27,
     "metadata": {},
     "output_type": "execute_result"
    }
   ],
   "source": [
    "account_list[0].get_balance()"
   ]
  },
  {
   "attachments": {},
   "cell_type": "markdown",
   "metadata": {},
   "source": [
    "Where `account_list[0]` gives us a BankAccount object and `.get_balance()` returns the balance of that object."
   ]
  },
  {
   "cell_type": "markdown",
   "metadata": {},
   "source": [
    "## List Comprehensions"
   ]
  },
  {
   "attachments": {},
   "cell_type": "markdown",
   "metadata": {},
   "source": [
    "List comprehensions are a concise way to construct a new list by applying some transformation to an existing list. Python has other types that can be iterated over the same way. We have name for things that can be iterated over, \"iterables\". For example, the following code creates a new list whose elements are double the elements in `fun_floats` (defined earlier):"
   ]
  },
  {
   "cell_type": "code",
   "execution_count": 28,
   "metadata": {},
   "outputs": [],
   "source": [
    "fun_floats_doubled: list[float] = [2 * n for n in fun_floats]"
   ]
  },
  {
   "cell_type": "markdown",
   "metadata": {},
   "source": [
    "Here's a similar example that works from a range instead of a list:"
   ]
  },
  {
   "cell_type": "code",
   "execution_count": 29,
   "metadata": {},
   "outputs": [
    {
     "data": {
      "text/plain": [
       "[2, 4, 6, 8, 10, 12, 14, 16, 18, 20]"
      ]
     },
     "execution_count": 29,
     "metadata": {},
     "output_type": "execute_result"
    }
   ],
   "source": [
    "[2 * x for x in range(1, 11)]"
   ]
  },
  {
   "cell_type": "markdown",
   "metadata": {},
   "source": [
    "We can optionally filter out certain values from the original list (or other iterable)."
   ]
  },
  {
   "cell_type": "code",
   "execution_count": 30,
   "metadata": {},
   "outputs": [
    {
     "data": {
      "text/plain": [
       "[2, 6, 10, 14, 18]"
      ]
     },
     "execution_count": 30,
     "metadata": {},
     "output_type": "execute_result"
    }
   ],
   "source": [
    "[2 * x for x in range(1, 11) if x % 2 == 1]"
   ]
  },
  {
   "cell_type": "markdown",
   "metadata": {},
   "source": [
    "In this example, the original iterable was a range. If a value in that range is odd (the remainder of dividing by 2 is 1), then we apply the transformation (multiplying by 2). Note that values are filtered out **before** the transformation is applied. If we had doubled the numbers and then filtered out the even ones, then the new list would have been empty.\n",
    "\n",
    "We can also use a list comprehension to filter without applying a transformation:"
   ]
  },
  {
   "cell_type": "code",
   "execution_count": null,
   "metadata": {},
   "outputs": [],
   "source": [
    "nums: list[int] = [1, 2, 3, 4, 5, 6, 7, 8, 9]\n",
    "[x for x in nums if x % 3 == 0]"
   ]
  },
  {
   "attachments": {},
   "cell_type": "markdown",
   "metadata": {},
   "source": [
    "Don't let this new use of the **for** and **if** keywords confuse you. List comprehensions are a related concept to for loops and if statements, but a different flavor. The best thing you can do to learn how list comprehensions will be another powerful tool in your toolbelt is to try a few exercises."
   ]
  },
  {
   "cell_type": "markdown",
   "metadata": {},
   "source": [
    "## Exercises"
   ]
  },
  {
   "attachments": {},
   "cell_type": "markdown",
   "metadata": {},
   "source": [
    "1. Write a function named `every_other` that takes as a parameter a list and returns a list that only contains every other element starting with the first one. For example, if the original list is `[7, \"joe\", \"apple\", 9.81, False]`, then the new list should be `[7, \"apple\", False]`. Use slicing."
   ]
  },
  {
   "cell_type": "code",
   "execution_count": 32,
   "metadata": {},
   "outputs": [
    {
     "name": "stdout",
     "output_type": "stream",
     "text": [
      "[7, 'apple', False]\n"
     ]
    }
   ],
   "source": [
    "def every_other(a_list:list):\n",
    "    return a_list[::2]\n",
    "my_list = [7, \"joe\", \"apple\", 9.81, False]\n",
    "print(every_other(my_list))"
   ]
  },
  {
   "attachments": {},
   "cell_type": "markdown",
   "metadata": {},
   "source": [
    "2. Write a function named `array_sum` that takes as a parameter a list of strings and returns the total number of characters in all the strings."
   ]
  },
  {
   "cell_type": "code",
   "execution_count": 35,
   "metadata": {},
   "outputs": [
    {
     "name": "stdout",
     "output_type": "stream",
     "text": [
      "20\n"
     ]
    }
   ],
   "source": [
    "def array_sum(a_list: list[str]):\n",
    "    total_length = 0\n",
    "    for value in a_list:\n",
    "        total_length += len(value)\n",
    "    return total_length\n",
    "\n",
    "print(array_sum(['why', \"joe\", \"apple\", 'bumbum', 'yes']))\n",
    "\n"
   ]
  },
  {
   "attachments": {},
   "cell_type": "markdown",
   "metadata": {},
   "source": [
    "3. Write a function named `rev_string_list` that takes as a parameter a list of strings and returns a list that contains the reverse of each of those strings. **Use a list comprehension**."
   ]
  },
  {
   "cell_type": "code",
   "execution_count": 40,
   "metadata": {},
   "outputs": [
    {
     "name": "stdout",
     "output_type": "stream",
     "text": [
      "['yhw', 'eoj', 'elppa', 'mubmub', 'sey']\n"
     ]
    }
   ],
   "source": [
    "def rev_string_list(a_list: list[str]) -> list:\n",
    "    new_list = [x[::-1] for x in a_list]\n",
    "    return new_list\n",
    "\n",
    "print(rev_string_list(['why', \"joe\", \"apple\", 'bumbum', 'yes']))\n",
    "\n",
    "        "
   ]
  },
  {
   "attachments": {},
   "cell_type": "markdown",
   "metadata": {},
   "source": [
    "4. Write a function named `contain_string` that takes as a parameter a list of strings and the target string, and returns a list of the strings from the original list that contain the target string. Use a list comprehension.  As an example, if the function call is `contain_string([\"cats\", \"tacks\", \"scat\", \"stack\"], \"cat\")`, then the return value should be `[\"cats\", \"scat\"]`, because `\"cats\"` and `\"scat\"` both contain `\"cat\"`."
   ]
  },
  {
   "cell_type": "code",
   "execution_count": 41,
   "metadata": {},
   "outputs": [
    {
     "name": "stdout",
     "output_type": "stream",
     "text": [
      "['cats', 'scat']\n"
     ]
    }
   ],
   "source": [
    "def contain_string(a_list:list[str], a_string: str) -> list:\n",
    "    new_list = [x for x in a_list if a_string in x]\n",
    "    return new_list\n",
    "print(contain_string([\"cats\", \"tacks\", \"scat\", \"stack\"], \"cat\"))\n",
    "\n"
   ]
  },
  {
   "cell_type": "code",
   "execution_count": null,
   "metadata": {},
   "outputs": [],
   "source": []
  }
 ],
 "metadata": {
  "kernelspec": {
   "display_name": "Python 3",
   "language": "python",
   "name": "python3"
  },
  "language_info": {
   "codemirror_mode": {
    "name": "ipython",
    "version": 3
   },
   "file_extension": ".py",
   "mimetype": "text/x-python",
   "name": "python",
   "nbconvert_exporter": "python",
   "pygments_lexer": "ipython3",
   "version": "3.11.1"
  },
  "vscode": {
   "interpreter": {
    "hash": "e9e699164e4a322cc4d7e5a175ae888281c7a6a570ea3d8a2c02e29901df6b06"
   }
  }
 },
 "nbformat": 4,
 "nbformat_minor": 4
}
