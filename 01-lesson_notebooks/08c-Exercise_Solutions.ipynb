{
 "cells": [
  {
   "cell_type": "markdown",
   "metadata": {},
   "source": [
    "# Exercise Solutions"
   ]
  },
  {
   "cell_type": "markdown",
   "metadata": {},
   "source": [
    "## Dictionaries"
   ]
  },
  {
   "attachments": {},
   "cell_type": "markdown",
   "metadata": {},
   "source": [
    "1. Make a dictionary called `eng_to_span` where the keys are the English words `\"one\"` through `\"ten\"`, and the corresponding values are their Spanish translations."
   ]
  },
  {
   "cell_type": "code",
   "execution_count": null,
   "metadata": {},
   "outputs": [],
   "source": [
    "eng_to_span: dict[str, str] = {\"one\": \"uno\",\n",
    "                               \"two\": \"dos\",\n",
    "                               \"three\": \"tres\",\n",
    "                               \"four\": \"cuatro\",\n",
    "                               \"five\": \"cinco\",\n",
    "                               \"six\": \"seis\",\n",
    "                               \"seven\": \"siete\",\n",
    "                               \"eight\": \"ocho\",\n",
    "                               \"nine\": \"nueve\",\n",
    "                               \"ten\": \"diez\"}"
   ]
  },
  {
   "attachments": {},
   "cell_type": "markdown",
   "metadata": {},
   "source": [
    "2. Using the dictionary from #1, write a loop that prints out both the key and value of each key-value pair, for example the first iteration of the loop should print `\"one\"` `\"uno\"`."
   ]
  },
  {
   "cell_type": "code",
   "execution_count": null,
   "metadata": {},
   "outputs": [],
   "source": [
    "eng_to_span: dict[str, str] = {\"one\": \"uno\",\n",
    "                               \"two\": \"dos\",\n",
    "                               \"three\": \"tres\",\n",
    "                               \"four\": \"cuatro\",\n",
    "                               \"five\": \"cinco\",\n",
    "                               \"six\": \"seis\",\n",
    "                               \"seven\": \"siete\",\n",
    "                               \"eight\": \"ocho\",\n",
    "                               \"nine\": \"nueve\",\n",
    "                               \"ten\": \"diez\"}\n",
    "word: str\n",
    "for word in eng_to_span:\n",
    "    print(word, eng_to_span[word])"
   ]
  },
  {
   "attachments": {},
   "cell_type": "markdown",
   "metadata": {},
   "source": [
    "3. Write a function named `some_squares` that takes a positive integer parameter and returns a dictionary where the keys are the integers from `1` through the value of the parameter, and the corresponding values are the squares of those integers. For example, if it's passed `3`, then the dictionary should contain the following key-value pairs: `{1: 1, 2: 4, 3: 9}`."
   ]
  },
  {
   "cell_type": "code",
   "execution_count": null,
   "metadata": {},
   "outputs": [],
   "source": [
    "def some_squares(n: int) -> dict[int, int]:\n",
    "    d: dict[int, int] = {}\n",
    "    i: int\n",
    "    for i in range(1, n+1):\n",
    "        d[i] = i*i \n",
    "    \n",
    "    return d"
   ]
  },
  {
   "cell_type": "markdown",
   "metadata": {},
   "source": [
    "## Sets"
   ]
  },
  {
   "attachments": {},
   "cell_type": "markdown",
   "metadata": {},
   "source": [
    "1. Write your own function called \"unionize\" for finding the union of two sets. Your function should take as parameters two sets, and return a new set that is the union of those two sets. Do not use Python's built-in union functionality."
   ]
  },
  {
   "cell_type": "code",
   "execution_count": 1,
   "metadata": {},
   "outputs": [],
   "source": [
    "def unionize(s1: set[object], s2: set[object]):\n",
    "    result: set = set(object)\n",
    "    i: object\n",
    "    for i in s1:\n",
    "        result.add(i)\n",
    "    j: object    \n",
    "    for j in s2:\n",
    "        result.add(j)\n",
    "  \n",
    "    return result"
   ]
  },
  {
   "attachments": {},
   "cell_type": "markdown",
   "metadata": {},
   "source": [
    "2. Write your own function called `intersect` for finding the intersection of two sets. Your function should take as parameters two sets, and return a new set that is the intersection of those two sets. Do not use Python's built-in intersection functionality."
   ]
  },
  {
   "cell_type": "code",
   "execution_count": 2,
   "metadata": {},
   "outputs": [],
   "source": [
    "def intersect(s1: set[object], s2: set[object]):\n",
    "    i: object\n",
    "    return {i for i in s1 if i in s2}"
   ]
  },
  {
   "attachments": {},
   "cell_type": "markdown",
   "metadata": {},
   "source": [
    "3. Write your own function called `sym_diff` for finding the symmetric difference of two sets.  Your function should take as parameters two sets, and return a new set that is the symmetric difference of those two sets.  Do not use Python's built-in symmetric difference functionality."
   ]
  },
  {
   "cell_type": "code",
   "execution_count": 2,
   "metadata": {},
   "outputs": [],
   "source": [
    "def sym_diff(s1: set[object], s2: set[object]):\n",
    "    s3: set[object] = s1 | s2\n",
    "    i: object\n",
    "    return set(i for i in s3 if ((i not in s1) or (i not in s2)))"
   ]
  },
  {
   "cell_type": "code",
   "execution_count": null,
   "metadata": {},
   "outputs": [],
   "source": []
  }
 ],
 "metadata": {
  "kernelspec": {
   "display_name": "Python 3",
   "language": "python",
   "name": "python3"
  },
  "language_info": {
   "codemirror_mode": {
    "name": "ipython",
    "version": 3
   },
   "file_extension": ".py",
   "mimetype": "text/x-python",
   "name": "python",
   "nbconvert_exporter": "python",
   "pygments_lexer": "ipython3",
   "version": "3.11.1"
  },
  "vscode": {
   "interpreter": {
    "hash": "e9e699164e4a322cc4d7e5a175ae888281c7a6a570ea3d8a2c02e29901df6b06"
   }
  }
 },
 "nbformat": 4,
 "nbformat_minor": 4
}
